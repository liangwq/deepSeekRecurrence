{
 "cells": [
  {
   "cell_type": "markdown",
   "id": "3bbe1ee3-d10d-4b65-bc6d-90fe9388f698",
   "metadata": {},
   "source": [
    "# langGraph构建图和节点例子"
   ]
  },
  {
   "cell_type": "code",
   "execution_count": 1,
   "id": "b2cf2f70-7a39-4d7c-9a1e-505358a73d60",
   "metadata": {},
   "outputs": [],
   "source": [
    "from typing import Annotated\n",
    "\n",
    "from typing_extensions import TypedDict\n",
    "\n",
    "from langgraph.graph import StateGraph, START, END\n",
    "from langgraph.graph.message import add_messages"
   ]
  },
  {
   "cell_type": "code",
   "execution_count": 2,
   "id": "8be66b7b-9262-461f-8dce-d696cacdb560",
   "metadata": {},
   "outputs": [],
   "source": [
    "class State(TypedDict):\n",
    "    # Messages have the type \"list\". The `add_messages` function\n",
    "    # in the annotation defines how this state key should be updated\n",
    "    # (in this case, it appends messages to the list, rather than overwriting them)\n",
    "    messages: Annotated[list, add_messages]\n",
    "\n",
    "\n",
    "graph_builder = StateGraph(State)"
   ]
  },
  {
   "cell_type": "code",
   "execution_count": null,
   "id": "143f2498-a328-48fb-9c80-d86db853419b",
   "metadata": {},
   "outputs": [],
   "source": [
    "import os\n",
    "from langchain.chat_models import init_chat_model\n",
    "\n",
    "os.environ[\"OPENAI_API_KEY\"] = \"sk-...\"\n",
    "\n",
    "llm = init_chat_model(\"openai:gpt-4.1\")"
   ]
  },
  {
   "cell_type": "code",
   "execution_count": null,
   "id": "cbc64a50-4501-477c-bbde-bd43a16a3a69",
   "metadata": {},
   "outputs": [],
   "source": [
    "import os\n",
    "from langchain.chat_models import init_chat_model\n",
    "\n",
    "# 设置自定义API配置\n",
    "os.environ[\"QWEN_API_KEY\"] = \"You API Key\"\n",
    "os.environ[\"QWEN_API_BASE\"] = \"https://dashscope.aliyuncs.com/compatible-mode/v1\"\n",
    "\n",
    "# 使用自定义配置\n",
    "llm = init_chat_model(\n",
    "    model=\"qwen-plus-latest\",\n",
    "    model_provider=\"openai\",\n",
    "    api_key=os.environ[\"QWEN_API_KEY\"],\n",
    "    base_url=os.environ[\"QWEN_API_BASE\"]\n",
    ")"
   ]
  },
  {
   "cell_type": "code",
   "execution_count": 6,
   "id": "49382c5f-cd7c-455f-a98c-04f87f008d54",
   "metadata": {},
   "outputs": [
    {
     "data": {
      "text/plain": [
       "<langgraph.graph.state.StateGraph at 0x11c139730>"
      ]
     },
     "execution_count": 6,
     "metadata": {},
     "output_type": "execute_result"
    }
   ],
   "source": [
    "def chatbot(state: State):\n",
    "    return {\"messages\": [llm.invoke(state[\"messages\"])]}\n",
    "\n",
    "\n",
    "# The first argument is the unique node name\n",
    "# The second argument is the function or object that will be called whenever\n",
    "# the node is used.\n",
    "graph_builder.add_node(\"chatbot\", chatbot)"
   ]
  },
  {
   "cell_type": "code",
   "execution_count": 7,
   "id": "9e1ab1b8-920f-48ba-acac-21239139f99a",
   "metadata": {},
   "outputs": [
    {
     "data": {
      "text/plain": [
       "<langgraph.graph.state.StateGraph at 0x11c139730>"
      ]
     },
     "execution_count": 7,
     "metadata": {},
     "output_type": "execute_result"
    }
   ],
   "source": [
    "graph_builder.add_edge(START, \"chatbot\")"
   ]
  },
  {
   "cell_type": "code",
   "execution_count": 8,
   "id": "9bdf69f6-8aa1-4055-b740-3ed18e99a65f",
   "metadata": {},
   "outputs": [
    {
     "data": {
      "text/plain": [
       "<langgraph.graph.state.StateGraph at 0x11c139730>"
      ]
     },
     "execution_count": 8,
     "metadata": {},
     "output_type": "execute_result"
    }
   ],
   "source": [
    "graph_builder.add_edge(\"chatbot\", END)"
   ]
  },
  {
   "cell_type": "code",
   "execution_count": 9,
   "id": "c0c50dfb-2b1e-4eb0-817e-f33cf861ff46",
   "metadata": {},
   "outputs": [],
   "source": [
    "graph = graph_builder.compile()"
   ]
  },
  {
   "cell_type": "code",
   "execution_count": 10,
   "id": "4e9fbc58-84bd-4a57-a1ee-6b2d883066cc",
   "metadata": {},
   "outputs": [
    {
     "data": {
      "image/png": "[encoded data removed]",
      "text/plain": [
       "<IPython.core.display.Image object>"
      ]
     },
     "metadata": {},
     "output_type": "display_data"
    }
   ],
   "source": [
    "from IPython.display import Image, display\n",
    "\n",
    "try:\n",
    "    display(Image(graph.get_graph().draw_mermaid_png()))\n",
    "except Exception:\n",
    "    # This requires some extra dependencies and is optional\n",
    "    pass"
   ]
  },
  {
   "cell_type": "code",
   "execution_count": 11,
   "id": "838dc3c6-fa85-41a0-a82b-b57cc534f42d",
   "metadata": {},
   "outputs": [
    {
     "name": "stdout",
     "output_type": "stream",
     "text": [
      "User:  中国电车逆袭之路\n"
     ]
    },
    {
     "name": "stdout",
     "output_type": "stream",
     "text": [
      "Assistant: 中国电动汽车的逆袭之路是一段充满挑战与突破的发展历程，体现了技术创新、政策支持、市场潜力和产业链优势的多重作用。以下从多个维度分析这一过程：\n",
      "\n",
      "---\n",
      "\n",
      "### **1. 政策驱动：顶层设计的长期布局**\n",
      "- **早期扶持（2009-2015年）**  \n",
      "  中国自2009年启动“十城千辆”工程，通过补贴、税收优惠等推动新能源汽车试点，虽初期面临技术不成熟、骗补等问题，但为产业奠定了基础。\n",
      "- **双积分政策（2017年）**  \n",
      "  借鉴欧美经验推出的“双积分”制度（油耗积分+新能源积分），倒逼车企转型，迫使合资品牌加速电动化。\n",
      "- **基础设施先行**  \n",
      "  截至2023年，中国充电桩数量超600万台，车桩比降至2.5:1，充电便利性显著提升。\n",
      "\n",
      "---\n",
      "\n",
      "### **2. 技术创新：从模仿到自主突破**\n",
      "- **电池革命：宁德时代与比亚迪的崛起**  \n",
      "  宁德时代凭借锂离子电池技术（如CTP、钠离子电池）成为全球龙头；比亚迪刀片电池以安全性重塑行业标准，带动自主品牌市占率回升。\n",
      "- **智能网联：软件定义汽车**  \n",
      "  蔚来、小鹏、理想等新势力将OTA升级、自动驾驶（如华为ADS）、车载系统（鸿蒙座舱）推向国际前沿，形成差异化竞争力。\n",
      "- **全产业链掌控**  \n",
      "  从锂矿（赣锋锂业）、正极材料（容百科技）到电池回收（格林美），中国构建了覆盖全球70%以上的动力电池供应链。\n",
      "\n",
      "---\n",
      "\n",
      "### **3. 市场爆发：消费认知与规模效应**\n",
      "- **价格战与消费升级并行**  \n",
      "  2023年特斯拉降价引发激烈竞争，比亚迪推出多品牌（王朝系列+腾势+仰望）覆盖全价位，A00级车（五菱宏光MINI EV）打开下沉市场。\n",
      "- **出口狂飙：全球化布局**  \n",
      "  2023年中国汽车出口量跃居全球第二（400万辆+），其中电动车占比超30%，重点布局东南亚、欧洲（比亚迪、蔚来）、中东等地，建立海外工厂（如上汽在泰国、比亚迪在匈牙利）。\n",
      "- **品牌高端化尝试**  \n",
      "  蔚来ET5、极氪001、小米SU7等瞄准豪华市场，挑战BBA地位；仰望U8、昊铂增程版展现技术实力。\n",
      "\n",
      "---\n",
      "\n",
      "### **4. 挑战与争议：成长中的阵痛**\n",
      "- **产能过剩与内卷**  \n",
      "  2023年新能源车渗透率超35%，但行业集中度低，部分企业依赖补贴或面临亏损（如威马、高合）。\n",
      "- **出海壁垒加剧**  \n",
      "  欧盟对中国电动车发起反补贴调查（关税可能提高至20%），美国限制电池组件进口，需加强本地化生产应对。\n",
      "- **核心技术短板**  \n",
      "  车规级芯片（如英飞凌替代）、操作系统（QNX主导）仍受制于人，大算力芯片（地平线、黑芝麻）和国产OS（鸿蒙、AliOS）正在突围。\n",
      "\n",
      "---\n",
      "\n",
      "### **5. 未来趋势：智能化与全球化**\n",
      "- **城市NOA（导航辅助驾驶）落地战**  \n",
      "  小鹏XNGP、华为ADS 3.0、百度Apollo计划2024年实现无图城区覆盖，推动L3级自动驾驶商用。\n",
      "- **换电模式探索**  \n",
      "  蔚来、奥动推广电池租赁（BaaS），降低购车成本，适配出租车、重卡等高频场景。\n",
      "- **碳中和压力传导**  \n",
      "  全生命周期碳足迹管理（原材料开采→报废回收）将成为出口硬门槛，倒逼产业链绿色升级。\n",
      "\n",
      "---\n",
      "\n",
      "### **结语：从“电动化”到“生态重构”**\n",
      "中国电动车的逆袭不仅是产业胜利，更重塑了全球汽车产业格局。下一步需解决“有规模缺利润”“有技术缺标准”的问题，在智能出行、能源网络（V2G）、数据安全等领域构建新生态。这场变革的本质，是制造业数字化转型与大国科技博弈的缩影。\n"
     ]
    },
    {
     "name": "stdout",
     "output_type": "stream",
     "text": [
      "User:  quit\n"
     ]
    },
    {
     "name": "stdout",
     "output_type": "stream",
     "text": [
      "Goodbye!\n"
     ]
    }
   ],
   "source": [
    "def stream_graph_updates(user_input: str):\n",
    "    for event in graph.stream({\"messages\": [{\"role\": \"user\", \"content\": user_input}]}):\n",
    "        for value in event.values():\n",
    "            print(\"Assistant:\", value[\"messages\"][-1].content)\n",
    "\n",
    "\n",
    "while True:\n",
    "    try:\n",
    "        user_input = input(\"User: \")\n",
    "        if user_input.lower() in [\"quit\", \"exit\", \"q\"]:\n",
    "            print(\"Goodbye!\")\n",
    "            break\n",
    "        stream_graph_updates(user_input)\n",
    "    except:\n",
    "        # fallback if input() is not available\n",
    "        user_input = \"What do you know about LangGraph?\"\n",
    "        print(\"User: \" + user_input)\n",
    "        stream_graph_updates(user_input)\n",
    "        break"
   ]
  },
  {
   "cell_type": "markdown",
   "id": "06f4f58a-0589-44c3-8c06-0775ad276053",
   "metadata": {},
   "source": [
    "# LangGraph工具整合基本介绍"
   ]
  },
  {
   "cell_type": "code",
   "execution_count": null,
   "id": "4c745eed-0ba4-4a40-8e2e-784e6eea08d2",
   "metadata": {},
   "outputs": [],
   "source": [
    "!pip install -U langchain-tavily"
   ]
  },
  {
   "cell_type": "code",
   "execution_count": 14,
   "id": "bbf219ca-640e-434c-aa94-a0bb9e5a9568",
   "metadata": {},
   "outputs": [
    {
     "name": "stdout",
     "output_type": "stream",
     "text": [
      "TAVILY_API_KEY:  ········\n"
     ]
    }
   ],
   "source": [
    "import os\n",
    "import getpass\n",
    "def _set_env(var: str):\n",
    "    if not os.environ.get(var):\n",
    "        os.environ[var] = getpass.getpass(f\"{var}: \")\n",
    "\n",
    "_set_env(\"TAVILY_API_KEY\")"
   ]
  },
  {
   "cell_type": "markdown",
   "id": "d52887dd-8ac6-4af4-bc6c-6f40ed4708e1",
   "metadata": {},
   "source": [
    "## tavily测试工具"
   ]
  },
  {
   "cell_type": "code",
   "execution_count": 15,
   "id": "137c174e-950b-4ee3-82ee-33e54ae8bf57",
   "metadata": {},
   "outputs": [
    {
     "data": {
      "text/plain": [
       "{'query': 'langGraph核心是什么？',\n",
       " 'follow_up_questions': None,\n",
       " 'answer': None,\n",
       " 'images': [],\n",
       " 'results': [{'url': 'https://www.cnblogs.com/muzinan110/p/18539969',\n",
       "   'title': 'LangGraph入门：核心概念与基础组件- muzinan110 - 博客园',\n",
       "   'content': 'LangGraph是LangChain生态系统中的一个新成员,它提供了一个基于图(Graph)的框架来构建复杂的LLM应用。通过将应用逻辑组织成有向图的形式,LangGraph使得',\n",
       "   'score': 0.8737439,\n",
       "   'raw_content': None},\n",
       "  {'url': 'https://zhuanlan.zhihu.com/p/15559562499',\n",
       "   'title': 'LangGraph 核心思想及关键技术介绍 - 知乎专栏',\n",
       "   'content': \"LangGraph 核心思想及关键技术介绍 - 知乎 Image 1) LangGraph 核心思想及关键技术介绍 Image 2: LangGraph 核心思想及关键技术介绍 LangGraph 核心思想及关键技术介绍 Image 3: 张欢 LangGraph 是一个有用于构建有状态和多角色的 Agents 应用。 LangGraph 的主要优势包括： *   灵活性：基于 Python 的特性允许无限定制和复杂逻辑。 **定位**：一个灵活的 Python 库，主要面向开发人员，适合具有编码经验和需要高度定制的AI解决方案的人员。 Image 4 Image 5 6. **节点**（Nodes）：一个Python函数，通常接收一个共享的state参数。还可接受一个config参数，如用户id、线程id等。 Image 6 Image 7 8. **Send 方法**：默认情况下，节点和边都是提前定义好的，并基于同一个共享State运行，但是有些场景下，无法提前确定边，甚至一个图内会出现 State 的不同版本。一个常见的例子就是 Map-reduce 模式（用于并行处理多个子任务），第一个节点根据入参动态生成一个对象列表。 Image 8 **Tool use 节点**：内置了ToolNode库。 langgraph \\u200b赞同 4\\u200b\\u200b1 条评论 1 条评论 Image 9: 中性粒细胞NETS Image 10: 张欢 Image 11: 关于LangGraph你应该知道的基础知识 关于LangGraph你应该知道的基础知识 ===================== 风之痕 发表于我的大模型...Image 12: 屠榜的Graphormer到底有多强大？ 屠榜的Graphormer到底有多强大？ ==================== 潘润琦 发表于图神经网络...[![Image 13: [WSDM'21] GraphSMOTE: Imbalanced Node Classification on Graphs with Graph Neural Networks](https://pic1.zhimg.com/v2-d4b1c15cfd4beae3bd6b818770161135_250x0.jpg? source=172ae18b) [WSDM'21] GraphSMOTE: Imbalanced Node Classification on Graphs with Graph Neural Networks ========================================================================================= 刘芷宁 发表于无偏机器学...](https://zhuanlan.zhihu.com/p/561260176)Glow: Graph Lowering Compiler Techniques for Neural Networks ============================================================ 摘要： 本文介绍了机器学习编译器Glow的设计，Glow是可以为多平台生成高度优化代码的实用编译方法。Glow将传统的神经网络数据流图lower为两阶段强类型中间表示。高层中间表示允许优化器执行… 武玲 Image 14 Image 15\",\n",
       "   'score': 0.8286204,\n",
       "   'raw_content': None}],\n",
       " 'response_time': 0.86}"
      ]
     },
     "execution_count": 15,
     "metadata": {},
     "output_type": "execute_result"
    }
   ],
   "source": [
    "from langchain_tavily import TavilySearch\n",
    "\n",
    "tool = TavilySearch(max_results=2)\n",
    "tools = [tool]\n",
    "tool.invoke(\"langGraph核心是什么？\")"
   ]
  },
  {
   "cell_type": "markdown",
   "id": "dfb38adc-03c8-47c0-8287-19b7a3392c06",
   "metadata": {},
   "source": [
    "## 构建chat agent节点"
   ]
  },
  {
   "cell_type": "code",
   "execution_count": null,
   "id": "4c61ec1f-afbd-416d-bb4e-4007e713aa8e",
   "metadata": {},
   "outputs": [],
   "source": [
    "import os\n",
    "from langchain.chat_models import init_chat_model\n",
    "\n",
    "# 设置自定义API配置\n",
    "os.environ[\"QWEN_API_KEY\"] = \"You API Key\"\n",
    "os.environ[\"QWEN_API_BASE\"] = \"https://dashscope.aliyuncs.com/compatible-mode/v1\"\n",
    "\n",
    "# 使用自定义配置\n",
    "llm = init_chat_model(\n",
    "    model=\"qwen-plus-latest\",\n",
    "    model_provider=\"openai\",\n",
    "    api_key=os.environ[\"QWEN_API_KEY\"],\n",
    "    base_url=os.environ[\"QWEN_API_BASE\"]\n",
    ")"
   ]
  },
  {
   "cell_type": "markdown",
   "id": "0f9bfa33-c0c1-4c34-9451-f995652ca862",
   "metadata": {},
   "source": [
    "## 构建AGI组织结构图"
   ]
  },
  {
   "cell_type": "code",
   "execution_count": 17,
   "id": "05c46d71-c911-4d7a-a61a-a858162b9a4b",
   "metadata": {},
   "outputs": [
    {
     "data": {
      "text/plain": [
       "<langgraph.graph.state.StateGraph at 0x11f13a120>"
      ]
     },
     "execution_count": 17,
     "metadata": {},
     "output_type": "execute_result"
    }
   ],
   "source": [
    "from typing import Annotated\n",
    "\n",
    "from typing_extensions import TypedDict\n",
    "\n",
    "from langgraph.graph import StateGraph, START, END\n",
    "from langgraph.graph.message import add_messages\n",
    "\n",
    "class State(TypedDict):\n",
    "    messages: Annotated[list, add_messages]\n",
    "\n",
    "graph_builder = StateGraph(State)\n",
    "\n",
    "# Modification: tell the LLM which tools it can call\n",
    "# highlight-next-line\n",
    "llm_with_tools = llm.bind_tools(tools)\n",
    "\n",
    "def chatbot(state: State):\n",
    "    return {\"messages\": [llm_with_tools.invoke(state[\"messages\"])]}\n",
    "\n",
    "graph_builder.add_node(\"chatbot\", chatbot)"
   ]
  },
  {
   "cell_type": "markdown",
   "id": "4c3c4011-38c9-47d6-82ab-5c08b4b81d7d",
   "metadata": {},
   "source": [
    "### 工具节点类\n",
    "用于在LangChain图中执行工具调用。让我简洁地解释：\n",
    "\n",
    "#### BasicToolNode 类的作用\n",
    "\n",
    "**核心功能**：接收AI消息中的工具调用请求，执行相应工具，并返回结果\n",
    "\n",
    "##### 工作流程\n",
    "\n",
    "###### 1. 初始化 (`__init__`)：\n",
    "- 接收工具列表\n",
    "- 创建工具名称到工具对象的映射字典\n",
    "\n",
    "###### 2. 执行 (`__call__`)：\n",
    "- 从输入中获取消息列表\n",
    "- 取最后一条消息（通常是AI的响应）\n",
    "- 遍历消息中的所有工具调用\n",
    "\n",
    "###### 3. 处理每个工具调用：\n",
    "- 根据工具名称找到对应工具\n",
    "- 用工具参数执行工具：`tool.invoke(tool_call[\"args\"])`\n",
    "- 将结果包装成 `ToolMessage` 对象\n",
    "\n",
    "###### 4. 返回结果：\n",
    "- 返回包含所有工具执行结果的消息列表\n",
    "\n",
    "##### 关键点\n",
    "\n",
    "- **输入格式**：`{\"messages\": [...]}`\n",
    "- **输出格式**：`{\"messages\": [ToolMessage对象列表]}`\n",
    "- **ToolMessage包含**：执行结果、工具名称、调用ID\n",
    "\n",
    "#### 使用示例\n",
    "\n",
    "```python  \n",
    "# 创建工具节点  \n",
    "tool_node = BasicToolNode(tools=[tool])  \n",
    "# 添加到图中  \n",
    "graph_builder.add_node(\"tools\", tool_node)  "
   ]
  },
  {
   "cell_type": "code",
   "execution_count": 18,
   "id": "2c435ed1-c1a6-4d2a-ae92-eae1b20842df",
   "metadata": {},
   "outputs": [
    {
     "data": {
      "text/plain": [
       "<langgraph.graph.state.StateGraph at 0x11f13a120>"
      ]
     },
     "execution_count": 18,
     "metadata": {},
     "output_type": "execute_result"
    }
   ],
   "source": [
    "import json\n",
    "\n",
    "from langchain_core.messages import ToolMessage\n",
    "\n",
    "\n",
    "class BasicToolNode:\n",
    "    \"\"\"A node that runs the tools requested in the last AIMessage.\"\"\"\n",
    "\n",
    "    def __init__(self, tools: list) -> None:\n",
    "        self.tools_by_name = {tool.name: tool for tool in tools}\n",
    "\n",
    "    def __call__(self, inputs: dict):\n",
    "        if messages := inputs.get(\"messages\", []):\n",
    "            message = messages[-1]\n",
    "        else:\n",
    "            raise ValueError(\"No message found in input\")\n",
    "        outputs = []\n",
    "        for tool_call in message.tool_calls:\n",
    "            tool_result = self.tools_by_name[tool_call[\"name\"]].invoke(\n",
    "                tool_call[\"args\"]\n",
    "            )\n",
    "            outputs.append(\n",
    "                ToolMessage(\n",
    "                    content=json.dumps(tool_result),\n",
    "                    name=tool_call[\"name\"],\n",
    "                    tool_call_id=tool_call[\"id\"],\n",
    "                )\n",
    "            )\n",
    "        return {\"messages\": outputs}\n",
    "\n",
    "\n",
    "tool_node = BasicToolNode(tools=[tool])\n",
    "graph_builder.add_node(\"tools\", tool_node)"
   ]
  },
  {
   "cell_type": "markdown",
   "id": "8191a12b-7019-45b2-84e0-f763ae78592e",
   "metadata": {},
   "source": [
    "### 路由决策函数和对话流程图的构建\n",
    "route_tools 函数\n",
    "作用：决定对话的下一步去向\n",
    "\n",
    "逻辑：\n",
    "\n",
    "获取最后一条消息（AI的回复）\n",
    "检查是否包含工具调用\n",
    "有工具调用 → 返回 \"tools\"（去执行工具）\n",
    "无工具调用 → 返回 END（结束对话）\n",
    "\n",
    "```mermaid  \n",
    "graph TD  \n",
    "    A[START] --> B[chatbot]  \n",
    "    B --> C{route_tools决策<br/>有工具调用？}  \n",
    "    C -->|是| D[tools]  \n",
    "    C -->|否| E[END]  \n",
    "    D --> B  "
   ]
  },
  {
   "cell_type": "code",
   "execution_count": 19,
   "id": "d74efac3-e594-4713-a416-3d1386d8a242",
   "metadata": {},
   "outputs": [],
   "source": [
    "def route_tools(\n",
    "    state: State,\n",
    "):\n",
    "    \"\"\"\n",
    "    Use in the conditional_edge to route to the ToolNode if the last message\n",
    "    has tool calls. Otherwise, route to the end.\n",
    "    \"\"\"\n",
    "    if isinstance(state, list):\n",
    "        ai_message = state[-1]\n",
    "    elif messages := state.get(\"messages\", []):\n",
    "        ai_message = messages[-1]\n",
    "    else:\n",
    "        raise ValueError(f\"No messages found in input state to tool_edge: {state}\")\n",
    "    if hasattr(ai_message, \"tool_calls\") and len(ai_message.tool_calls) > 0:\n",
    "        return \"tools\"\n",
    "    return END\n",
    "\n",
    "\n",
    "# The `tools_condition` function returns \"tools\" if the chatbot asks to use a tool, and \"END\" if\n",
    "# it is fine directly responding. This conditional routing defines the main agent loop.\n",
    "graph_builder.add_conditional_edges(\n",
    "    \"chatbot\",\n",
    "    route_tools,\n",
    "    # The following dictionary lets you tell the graph to interpret the condition's outputs as a specific node\n",
    "    # It defaults to the identity function, but if you\n",
    "    # want to use a node named something else apart from \"tools\",\n",
    "    # You can update the value of the dictionary to something else\n",
    "    # e.g., \"tools\": \"my_tools\"\n",
    "    {\"tools\": \"tools\", END: END},\n",
    ")\n",
    "# Any time a tool is called, we return to the chatbot to decide the next step\n",
    "graph_builder.add_edge(\"tools\", \"chatbot\")\n",
    "graph_builder.add_edge(START, \"chatbot\")\n",
    "graph = graph_builder.compile()"
   ]
  },
  {
   "cell_type": "code",
   "execution_count": 20,
   "id": "c52782f5-d23e-4635-9e9c-f57d271a3d56",
   "metadata": {},
   "outputs": [
    {
     "data": {
      "image/png": "[encoded data removed]",
      "text/plain": [
       "<IPython.core.display.Image object>"
      ]
     },
     "metadata": {},
     "output_type": "display_data"
    }
   ],
   "source": [
    "from IPython.display import Image, display\n",
    "\n",
    "try:\n",
    "    display(Image(graph.get_graph().draw_mermaid_png()))\n",
    "except Exception:\n",
    "    # This requires some extra dependencies and is optional\n",
    "    pass"
   ]
  },
  {
   "cell_type": "code",
   "execution_count": 21,
   "id": "7005c33a-30a9-4210-922a-c5f84505746a",
   "metadata": {},
   "outputs": [
    {
     "name": "stdout",
     "output_type": "stream",
     "text": [
      "User:  中国新能源电池逆袭之路\n"
     ]
    },
    {
     "name": "stdout",
     "output_type": "stream",
     "text": [
      "Assistant: \n",
      "Assistant: {\"query\": \"\\u4e2d\\u56fd\\u65b0\\u80fd\\u6e90\\u7535\\u6c60\\u9006\\u88ad\\u4e4b\\u8def\", \"follow_up_questions\": null, \"answer\": null, \"images\": [], \"results\": [{\"url\": \"http://auto.people.com.cn/n1/2017/0724/c1005-29422931.html\", \"title\": \"\\u4e2d\\u56fd\\u65b0\\u80fd\\u6e90\\u6c7d\\u8f66\\u7684\\u201c\\u9006\\u88ad\\u4e4b\\u8def\\u201d - \\u4eba\\u6c11\\u7f51\", \"content\": \"\\u2014\\u2014\\u6280\\u672f\\u8fdb\\u6b65\\u7a81\\u98de\\u731b\\u8fdb\\u30025\\u5e74\\u524d\\uff0c\\u4e2d\\u56fd\\u7535\\u52a8\\u6c7d\\u8f66\\u7eed\\u822a\\u91cc\\u7a0b\\u53ea\\u6709100\\u516c\\u91cc\\uff0c\\u73b0\\u5728\\uff0c\\u7535\\u6c60\\u6210\\u672c\\u51cf\\u5c11\\u8fd1\\u4e00\\u534a\\uff0c\\u6027\\u80fd\\u63d0\\u9ad830%\\uff0c\\u7eed\\u822a\\u91cc\\u7a0b\\u63d0\\u5347\\u81f3300\\u516c\\u91cc\\u3002\", \"score\": 0.83742094, \"raw_content\": null}, {\"url\": \"https://www.juda.cn/news/202461.html\", \"title\": \"\\u65b0\\u80fd\\u6e90\\u6c7d\\u8f66\\u9006\\u88ad\\u80cc\\u540e\\u7684\\u53d8\\u5c40\\u52a8\\u529b\\u9502\\u79bb\\u5b50\\u7535\\u6c60\\u5382\\u5546\\u5d1b\\u8d77\\u4e4b\\u8def - \\u949c\\u5927\\u9502\\u7535\", \"content\": \"\\u5728\\u65b0\\u80fd\\u6e90\\u6c7d\\u8f66\\u9006\\u88ad\\u7684\\u80cc\\u540e\\uff0c\\u662f\\u6211\\u56fd\\u6c7d\\u8f66\\u884c\\u4e1a\\u6362\\u9053\\u8d85\\u8f66\\u7684\\u826f\\u673a\\uff0c\\u66f4\\u662f\\u56fd\\u5185\\u52a8\\u529b\\u9502\\u79bb\\u5b50\\u7535\\u6c60\\u5382\\u5546\\u7684\\u5d1b\\u8d77\\u4e4b\\u8def\\u3002\\u6240\\u4ee5\\uff0c\\u65e0\\u8bba\\u662f\\u4f20\\u7edf\\u8f66\\u4f01\\uff0c\\u8fd8\\u662f\\u9020\\u8f66\\u65b0\\u52bf\\u529b\\uff1b\\u65e0\\u8bba\\u662f\\u56fd\\u5185\\uff0c\\u8fd8\\u662f\", \"score\": 0.74807674, \"raw_content\": null}], \"response_time\": 1.39}\n",
      "Assistant: 中国新能源电池的发展之路确实堪称“逆袭”。以下是基于其发展历程的一些关键点分析：\n",
      "\n",
      "---\n",
      "\n",
      "### 1. **技术突破与成本下降**\n",
      "- **续航提升**：从2017年的报道来看，当时电动车型的续航里程仅有100公里左右，但如今主流电动车的续航已经提升到300公里以上，甚至部分高端车型可以达到600公里以上。这主要得益于锂电池技术的持续进步。\n",
      "- **成本降低**：过去几年，动力电池的成本大幅下降，降幅接近50%。这主要归功于规模化生产、材料优化以及制造工艺的改进。\n",
      "\n",
      "---\n",
      "\n",
      "### 2. **政策支持与市场驱动**\n",
      "- **政府扶持**：中国政府对新能源汽车行业的政策支持是推动电池产业发展的核心因素之一。例如，“双积分”政策、补贴政策和税收优惠等，都极大地促进了新能源汽车及电池行业的发展。\n",
      "- **市场需求激增**：随着环保意识增强和电动汽车的普及，市场对高能量密度、长寿命、低成本的电池需求迅速增长，进一步推动了产业链的完善和技术升级。\n",
      "\n",
      "---\n",
      "\n",
      "### 3. **产业链优势**\n",
      "- **本土化供应链**：中国建立了完整的锂电产业链，涵盖原材料（如锂、钴、镍）、正负极材料、电解液、隔膜以及电池组制造等多个环节。这种本土化的供应链不仅降低了成本，还提高了效率。\n",
      "- **头部企业崛起**：宁德时代（CATL）等企业在动力电池领域占据全球领先地位，成为特斯拉、宝马、大众等国际车企的核心供应商。这些企业的研发投入和产能扩张为中国电池产业的快速发展提供了强有力的支持。\n",
      "\n",
      "---\n",
      "\n",
      "### 4. **创新与多元化发展**\n",
      "- **技术创新**：除了传统的三元锂电池和磷酸铁锂电池，中国企业还在固态电池、钠离子电池等领域进行前沿布局。这些新技术有望在未来解决能量密度、安全性等问题。\n",
      "- **应用场景扩展**：新能源电池的应用不再局限于电动汽车，还广泛用于储能系统、电动自行车、电动工具等领域，为行业发展开辟了更多市场空间。\n",
      "\n",
      "---\n",
      "\n",
      "### 5. **国际化布局**\n",
      "- **海外市场拓展**：中国的电池制造商积极布局海外市场，在欧洲、北美、东南亚等地建立工厂或与当地企业合作，提升全球市场份额。\n",
      "- **品牌影响力提升**：中国电池品牌的国际影响力不断增强，逐渐摆脱了“低价低质”的刻板印象，开始以高质量、高性能赢得国际市场认可。\n",
      "\n",
      "---\n",
      "\n",
      "### 6. **挑战与未来方向**\n",
      "尽管中国新能源电池产业取得了显著成就，但仍面临一些挑战：\n",
      "- **资源瓶颈**：锂、钴等关键原材料的供应可能存在瓶颈，需要通过回收技术和替代材料来缓解压力。\n",
      "- **竞争加剧**：全球范围内的电池技术竞争日益激烈，尤其是在欧美国家加强本土电池产业链建设的背景下。\n",
      "- **技术迭代压力**：随着固态电池、氢燃料电池等新兴技术的推进，现有锂电池技术可能面临被取代的风险。\n",
      "\n",
      "---\n",
      "\n",
      "### 总结\n",
      "中国新能源电池的“逆袭”之路，是一条从技术落后到全球领先的跨越之路。这条道路离不开政策支持、市场驱动、产业链协同以及企业的持续创新。未来，如何在全球竞争中保持领先，并在技术迭代中抓住机遇，将是中国新能源电池行业面临的重大课题。\n"
     ]
    },
    {
     "name": "stdout",
     "output_type": "stream",
     "text": [
      "User:  quit\n"
     ]
    },
    {
     "name": "stdout",
     "output_type": "stream",
     "text": [
      "Goodbye!\n"
     ]
    }
   ],
   "source": [
    "def stream_graph_updates(user_input: str):\n",
    "    for event in graph.stream({\"messages\": [{\"role\": \"user\", \"content\": user_input}]}):\n",
    "        for value in event.values():\n",
    "            print(\"Assistant:\", value[\"messages\"][-1].content)\n",
    "\n",
    "while True:\n",
    "    try:\n",
    "        user_input = input(\"User: \")\n",
    "        if user_input.lower() in [\"quit\", \"exit\", \"q\"]:\n",
    "            print(\"Goodbye!\")\n",
    "            break\n",
    "\n",
    "        stream_graph_updates(user_input)\n",
    "    except:\n",
    "        # fallback if input() is not available\n",
    "        user_input = \"What do you know about LangGraph?\"\n",
    "        print(\"User: \" + user_input)\n",
    "        stream_graph_updates(user_input)\n",
    "        break"
   ]
  },
  {
   "cell_type": "markdown",
   "id": "c9daa24c-3cc7-4c60-aa97-5d617bc47b67",
   "metadata": {},
   "source": [
    "## 用LangGraph自带ToolNode, tools_condition来实现"
   ]
  },
  {
   "cell_type": "code",
   "execution_count": null,
   "id": "dc2d3d49-42a8-4524-8127-50621f7e9000",
   "metadata": {},
   "outputs": [],
   "source": [
    "from typing import Annotated\n",
    "\n",
    "from langchain_tavily import TavilySearch\n",
    "from langchain_core.messages import BaseMessage\n",
    "from typing_extensions import TypedDict\n",
    "\n",
    "from langgraph.graph import StateGraph, START, END\n",
    "from langgraph.graph.message import add_messages\n",
    "from langgraph.prebuilt import ToolNode, tools_condition\n",
    "\n",
    "class State(TypedDict):\n",
    "    messages: Annotated[list, add_messages]\n",
    "\n",
    "graph_builder = StateGraph(State)\n",
    "\n",
    "tool = TavilySearch(max_results=2)\n",
    "tools = [tool]\n",
    "llm_with_tools = llm.bind_tools(tools)\n",
    "\n",
    "def chatbot(state: State):\n",
    "    return {\"messages\": [llm_with_tools.invoke(state[\"messages\"])]}\n",
    "\n",
    "graph_builder.add_node(\"chatbot\", chatbot)\n",
    "\n",
    "tool_node = ToolNode(tools=[tool])\n",
    "graph_builder.add_node(\"tools\", tool_node)\n",
    "\n",
    "graph_builder.add_conditional_edges(\n",
    "    \"chatbot\",\n",
    "    tools_condition,\n",
    ")\n",
    "# Any time a tool is called, we return to the chatbot to decide the next step\n",
    "graph_builder.add_edge(\"tools\", \"chatbot\")\n",
    "graph_builder.add_edge(START, \"chatbot\")\n",
    "graph = graph_builder.compile()"
   ]
  }
 ],
 "metadata": {
  "kernelspec": {
   "display_name": "Python 3 (ipykernel)",
   "language": "python",
   "name": "python3"
  },
  "language_info": {
   "codemirror_mode": {
    "name": "ipython",
    "version": 3
   },
   "file_extension": ".py",
   "mimetype": "text/x-python",
   "name": "python",
   "nbconvert_exporter": "python",
   "pygments_lexer": "ipython3",
   "version": "3.12.2"
  }
 },
 "nbformat": 4,
 "nbformat_minor": 5
}
