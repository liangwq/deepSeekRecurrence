{
 "cells": [
  {
   "cell_type": "markdown",
   "id": "06cfb70e-e4f9-4a84-9375-11f4b4361eba",
   "metadata": {},
   "source": [
    "# langGraph人在回路\n",
    "LangGraph 框架如何支持 **“人在回路”（Human-in-the-Loop）** 的工作流设计，核心是通过其 **持久化层（Persistence Layer）** 和 **中断机制（Interrupt）** 实现人工干预。\n",
    "\n",
    "---\n",
    "\n",
    "### **核心概念解析**\n",
    "1. **问题背景**  \n",
    "   - **Agent 的不可靠性**：AI Agent 执行复杂任务时可能出错或无法独立完成（如缺乏关键信息、执行敏感操作）。\n",
    "   - **人工干预需求**：某些高风险操作（如支付、数据删除）需人类审核批准后才能执行，确保安全可控。\n",
    "\n",
    "2. **LangGraph 的解决方案**  \n",
    "   - **持久化层（Persistence Layer）**：  \n",
    "     - 自动保存工作流执行状态（如节点数据、变量值）。\n",
    "     - 允许工作流 **暂停后恢复**，无需从头开始。\n",
    "   - **中断函数（`interrupt`）**：  \n",
    "     - 在节点代码中调用 `interrupt()` 会 **主动暂停工作流**。\n",
    "     - 类似 Python 的 `input()` 函数，但专为分布式系统设计（支持异步等待外部输入）。\n",
    "\n",
    "3. **工作流程**  \n",
    "   ```mermaid\n",
    "   graph LR\n",
    "   A[Agent执行任务] --> B{需人工干预？}\n",
    "   B -- 是 --> C[调用interrupt暂停]\n",
    "   C --> D[等待人工输入]\n",
    "   D -- 用户提交指令Command --> E[注入新输入]\n",
    "   E --> F[恢复工作流]\n",
    "   B -- 否 --> G[继续执行]\n",
    "   ```\n",
    "\n",
    "4. **关键接口**  \n",
    "   - **暂停**：在节点中调用 `interrupt()` → 工作流状态持久化存储，进入等待状态。\n",
    "   - **恢复**：用户通过 **命令（Command）** 提交决策（如批准/拒绝）→ 携带新输入重启工作流。\n",
    "\n",
    "5. **与 Python `input()` 的异同**  \n",
    "   | **特性**         | **Python `input()`**       | **LangGraph `interrupt()`**       |\n",
    "   |------------------|----------------------------|-----------------------------------|\n",
    "   | **运行环境**     | 本地命令行阻塞             | 分布式系统异步暂停                |\n",
    "   | **状态管理**     | 无自动持久化               | 自动保存完整状态（节点、变量等）  |\n",
    "   | **恢复方式**     | 直接输入回车继续           | 需通过API注入`Command`重启        |\n",
    "   | **适用场景**     | 单机脚本                   | 生产级AI Agent系统                |\n",
    "\n",
    "6. **注意事项（Caveats）**  \n",
    "   - **超时处理**：需设置等待超时机制，避免无限期阻塞。\n",
    "   - **输入验证**：人工输入的 `Command` 需做安全校验（如防止注入攻击）。\n",
    "   - **状态隔离**：多并发场景下需保证各工作流状态独立存储。\n",
    "\n",
    "---\n",
    "\n",
    "### **典型应用场景**\n",
    "1. **金融审核**  \n",
    "   - Agent 检测到转账金额超过阈值 → `interrupt()` 暂停 → 等待风控人员审批 → 审批通过后继续执行支付。\n",
    "\n",
    "2. **敏感操作确认**  \n",
    "   - 删除数据库前调用 `interrupt()` → 向管理员发送确认请求 → 管理员回复 `CONFIRM_DELETE` 命令 → 执行删除。\n",
    "\n",
    "3. **动态补充信息**  \n",
    "   - Agent 发现缺失用户地址 → 暂停流程 → 人工补充地址信息 → 恢复物流派送任务。\n",
    "\n",
    "---\n",
    "\n",
    "### **总结**\n",
    "LangGraph 通过 `interrupt()` 机制将 **人工决策** 无缝嵌入自动化工作流：  \n",
    "1. **可控性**：高风险操作必经人工审批，避免AI盲目执行。  \n",
    "2. **灵活性**：持久化层保证中断后可恢复，支持复杂长周期任务。  \n",
    "3. **工程化**：提供类 `input()` 的简洁接口，降低开发成本（但需注意分布式场景下的特殊性）。  \n",
    "\n",
    "> **开发者建议**：在涉及资金、数据变更或法律合规的节点中主动调用 `interrupt()`，并将人工输入通过严格的 `Command` 枚举类型传递（如 `APPROVE/REJECT`），确保系统安全可靠。"
   ]
  },
  {
   "cell_type": "code",
   "execution_count": null,
   "id": "95f456ae-75ac-4319-81de-d15025250d55",
   "metadata": {},
   "outputs": [],
   "source": [
    "import os\n",
    "from langchain.chat_models import init_chat_model\n",
    "\n",
    "# 设置自定义API配置\n",
    "os.environ[\"QWEN_API_KEY\"] = \"You API Key\"\n",
    "os.environ[\"QWEN_API_BASE\"] = \"https://dashscope.aliyuncs.com/compatible-mode/v1\"\n",
    "\n",
    "# 使用自定义配置\n",
    "llm = init_chat_model(\n",
    "    model=\"qwen-plus-latest\",\n",
    "    model_provider=\"openai\",\n",
    "    api_key=os.environ[\"QWEN_API_KEY\"],\n",
    "    base_url=os.environ[\"QWEN_API_BASE\"]\n",
    ")"
   ]
  },
  {
   "cell_type": "code",
   "execution_count": 2,
   "id": "a8c0a58e-ebce-4a48-b8b9-cc3b980e20c6",
   "metadata": {},
   "outputs": [
    {
     "name": "stdout",
     "output_type": "stream",
     "text": [
      "TAVILY_API_KEY:  ········\n"
     ]
    }
   ],
   "source": [
    "import os\n",
    "import getpass\n",
    "def _set_env(var: str):\n",
    "    if not os.environ.get(var):\n",
    "        os.environ[var] = getpass.getpass(f\"{var}: \")\n",
    "\n",
    "_set_env(\"TAVILY_API_KEY\")"
   ]
  },
  {
   "cell_type": "markdown",
   "id": "2b4f4535-1c16-4722-9656-df56c7689942",
   "metadata": {},
   "source": [
    "这段代码使用 LangGraph 构建了一个支持人工干预的智能代理工作流，结合了工具调用和人工中断功能。以下是详细解释：\n",
    "\n",
    "### 1. **核心组件定义**\n",
    "```python\n",
    "# 状态定义：包含消息列表\n",
    "class State(TypedDict):\n",
    "    messages: Annotated[list, add_messages]  # 自动合并消息的特殊注解\n",
    "\n",
    "# 图构建器\n",
    "graph_builder = StateGraph(State)\n",
    "```\n",
    "- **`State`**：工作流状态对象，核心是 `messages` 列表\n",
    "- **`add_messages`**：自动合并新旧消息的处理器（避免手动拼接）\n",
    "- **`StateGraph`**：基于状态的工作流构建器\n",
    "\n",
    "---\n",
    "\n",
    "### 2. **工具定义**\n",
    "```python\n",
    "@tool\n",
    "def human_assistance(query: str) -> str:\n",
    "    \"\"\"人工协助工具\"\"\"\n",
    "    human_response = interrupt({\"query\": query})  # 关键中断点\n",
    "    return human_response[\"data\"]  # 返回人工输入\n",
    "\n",
    "# 搜索工具\n",
    "tool = TavilySearch(max_results=2)\n",
    "tools = [tool, human_assistance]  # 工具组合\n",
    "\n",
    "# 绑定工具到LLM\n",
    "llm_with_tools = llm.bind_tools(tools)\n",
    "```\n",
    "- **`human_assistance`** 工具：\n",
    "  - 调用 `interrupt()` 暂停工作流\n",
    "  - 等待人工输入（通过 `Command` 恢复）\n",
    "  - 返回格式：`{\"data\": \"人工输入内容\"}`\n",
    "- **`TavilySearch`**：网络搜索工具（限制2个结果）\n",
    "- **`bind_tools`**：让LLM能识别并调用这些工具\n",
    "\n",
    "---\n",
    "\n",
    "### 3. **节点定义**\n",
    "```python\n",
    "def chatbot(state: State):\n",
    "    message = llm_with_tools.invoke(state[\"messages\"])\n",
    "    assert len(message.tool_calls) <= 1  # 禁用并行调用\n",
    "    return {\"messages\": [message]}\n",
    "\n",
    "tool_node = ToolNode(tools=tools)  # 预构建工具节点\n",
    "```\n",
    "- **`chatbot` 节点**：\n",
    "  - 调用LLM处理当前消息\n",
    "  - `assert` 确保每次最多调用1个工具（避免中断恢复时的冲突）\n",
    "  - 返回LLM生成的消息\n",
    "- **`ToolNode`**：\n",
    "  - 预构建的通用工具执行节点\n",
    "  - 自动处理 `tool_calls` 并返回结果\n",
    "\n",
    "---\n",
    "\n",
    "### 4. **工作流构建**\n",
    "```python\n",
    "# 添加节点\n",
    "graph_builder.add_node(\"chatbot\", chatbot)\n",
    "graph_builder.add_node(\"tools\", tool_node)\n",
    "\n",
    "# 条件路由\n",
    "graph_builder.add_conditional_edges(\n",
    "    \"chatbot\",\n",
    "    tools_condition,  # 预定义判断：有工具调用→tools节点，无→END\n",
    ")\n",
    "\n",
    "# 节点连接\n",
    "graph_builder.add_edge(\"tools\", \"chatbot\")  # 工具执行后返回chatbot\n",
    "graph_builder.add_edge(START, \"chatbot\")    # 入口指向chatbot\n",
    "```\n",
    "- **节点关系**：\n",
    "  ```mermaid\n",
    "  graph LR\n",
    "    START --> chatbot\n",
    "    chatbot -- 有工具调用 --> tools\n",
    "    tools --> chatbot\n",
    "    chatbot -- 无工具调用 --> END\n",
    "  ```\n",
    "- **`tools_condition`** 逻辑：\n",
    "  ```python\n",
    "  def tools_condition(state: State):\n",
    "      last_msg = state[\"messages\"][-1]\n",
    "      if hasattr(last_msg, \"tool_calls\") and last_msg.tool_calls:\n",
    "          return \"tools\"  # 转工具节点\n",
    "      return END         # 结束\n",
    "  ```\n",
    "\n",
    "---\n",
    "\n",
    "### 5. **中断机制详解**\n",
    "当执行到 `human_assistance` 工具时：\n",
    "1. **触发中断**：\n",
    "   ```python\n",
    "   interrupt({\"query\": \"需要人工确认的问题\"})\n",
    "   ```\n",
    "2. **工作流暂停**：\n",
    "   - 当前状态自动保存到持久层\n",
    "   - 返回HTTP 202状态码（Accepted）\n",
    "3. **人工干预**：\n",
    "   - 系统展示问题给用户\n",
    "   - 用户通过API提交 `Command`：\n",
    "     ```json\n",
    "     {\n",
    "       \"command\": \"resume\",\n",
    "       \"input\": {\"data\": \"人工回复内容\"}\n",
    "     }\n",
    "     ```\n",
    "4. **恢复执行**：\n",
    "   - `human_assistance` 返回用户输入\n",
    "   - 工作流从断点继续\n",
    "\n",
    "---\n",
    "\n",
    "### 6. **完整工作流示例**\n",
    "假设用户提问：\"纽约的GDP是多少？\"\n",
    "1. `START → chatbot`：LLM决定调用搜索工具\n",
    "2. `chatbot → tools`：执行TavilySearch，返回GDP数据\n",
    "3. `tools → chatbot`：LLM发现数据不完整，调用人工工具：\n",
    "   ```python\n",
    "   human_assistance(\"GDP数据有冲突，请确认使用2023还是2024年数据？\")\n",
    "   ```\n",
    "4. **中断**：等待人工输入\n",
    "5. **恢复**（人工输入\"2024\"）：\n",
    "   - 人工输入注入消息流\n",
    "   - LLM整合数据生成最终回复\n",
    "6. 无工具调用 → 结束\n",
    "\n",
    "---\n",
    "\n",
    "### 关键设计特点\n",
    "1. **人工介入点**：\n",
    "   - 通过 `interrupt()` 在任意工具中暂停\n",
    "   - 无需修改核心工作流逻辑\n",
    "2. **状态安全**：\n",
    "   - 中断时自动保存完整状态（含消息历史）\n",
    "   - 恢复时精确回到中断点\n",
    "3. **工具约束**：\n",
    "   - 禁用并行工具调用 (`assert`)\n",
    "   - 避免中断恢复时的状态冲突\n",
    "4. **标准化接口**：\n",
    "   - 人工输入统一通过 `{\"data\": ...}` 格式返回\n",
    "   - 与普通工具返回格式兼容\n",
    "\n",
    "> **典型应用场景**：金融审核、医疗决策、法律咨询等需要人工确认的高风险领域"
   ]
  },
  {
   "cell_type": "code",
   "execution_count": 3,
   "id": "981ef64d-9b48-4334-b55a-361b4d0e35b3",
   "metadata": {},
   "outputs": [],
   "source": [
    "from typing import Annotated\n",
    "\n",
    "from langchain_tavily import TavilySearch\n",
    "from langchain_core.tools import tool\n",
    "from typing_extensions import TypedDict\n",
    "\n",
    "from langgraph.checkpoint.memory import MemorySaver\n",
    "from langgraph.graph import StateGraph, START, END\n",
    "from langgraph.graph.message import add_messages\n",
    "from langgraph.prebuilt import ToolNode, tools_condition\n",
    "\n",
    "from langgraph.types import Command, interrupt\n",
    "\n",
    "class State(TypedDict):\n",
    "    messages: Annotated[list, add_messages]\n",
    "\n",
    "graph_builder = StateGraph(State)\n",
    "\n",
    "@tool\n",
    "def human_assistance(query: str) -> str:\n",
    "    \"\"\"Request assistance from a human.\"\"\"\n",
    "    human_response = interrupt({\"query\": query})\n",
    "    return human_response[\"data\"]\n",
    "\n",
    "tool = TavilySearch(max_results=2)\n",
    "tools = [tool, human_assistance]\n",
    "llm_with_tools = llm.bind_tools(tools)\n",
    "\n",
    "def chatbot(state: State):\n",
    "    message = llm_with_tools.invoke(state[\"messages\"])\n",
    "    # Because we will be interrupting during tool execution,\n",
    "    # we disable parallel tool calling to avoid repeating any\n",
    "    # tool invocations when we resume.\n",
    "    assert len(message.tool_calls) <= 1\n",
    "    return {\"messages\": [message]}\n",
    "\n",
    "graph_builder.add_node(\"chatbot\", chatbot)\n",
    "\n",
    "tool_node = ToolNode(tools=tools)\n",
    "graph_builder.add_node(\"tools\", tool_node)\n",
    "\n",
    "graph_builder.add_conditional_edges(\n",
    "    \"chatbot\",\n",
    "    tools_condition,\n",
    ")\n",
    "graph_builder.add_edge(\"tools\", \"chatbot\")\n",
    "graph_builder.add_edge(START, \"chatbot\")\n",
    "\n",
    "memory = MemorySaver()\n",
    "\n",
    "graph = graph_builder.compile(checkpointer=memory)"
   ]
  },
  {
   "cell_type": "code",
   "execution_count": 4,
   "id": "bc770fbf-a0e0-40a8-92c0-294b5ee258cf",
   "metadata": {},
   "outputs": [
    {
     "data": {
      "image/png": "[encoded data removed]",
      "text/plain": [
       "<IPython.core.display.Image object>"
      ]
     },
     "metadata": {},
     "output_type": "display_data"
    }
   ],
   "source": [
    "from IPython.display import Image, display\n",
    "\n",
    "try:\n",
    "    display(Image(graph.get_graph().draw_mermaid_png()))\n",
    "except Exception:\n",
    "    # This requires some extra dependencies and is optional\n",
    "    pass"
   ]
  },
  {
   "cell_type": "code",
   "execution_count": 5,
   "id": "0f6aabb8-828e-4def-af0d-6afe9ff7a8cb",
   "metadata": {},
   "outputs": [
    {
     "name": "stdout",
     "output_type": "stream",
     "text": [
      "================================\u001b[1m Human Message \u001b[0m=================================\n",
      "\n",
      "我想构建一家无人机，你可以给我推荐些专家吗？\n",
      "==================================\u001b[1m Ai Message \u001b[0m==================================\n",
      "Tool Calls:\n",
      "  human_assistance (call_42b58a2261284340bb7e85)\n",
      " Call ID: call_42b58a2261284340bb7e85\n",
      "  Args:\n",
      "    query: 我想构建一家无人机，你可以给我推荐些专家吗？\n"
     ]
    }
   ],
   "source": [
    "user_input = \"我想构建一家无人机，你可以给我推荐些专家吗？\"\n",
    "config = {\"configurable\": {\"thread_id\": \"1\"}}\n",
    "\n",
    "events = graph.stream(\n",
    "    {\"messages\": [{\"role\": \"user\", \"content\": user_input}]},\n",
    "    config,\n",
    "    stream_mode=\"values\",\n",
    ")\n",
    "for event in events:\n",
    "    if \"messages\" in event:\n",
    "        event[\"messages\"][-1].pretty_print()"
   ]
  },
  {
   "cell_type": "code",
   "execution_count": 6,
   "id": "dfeac0ca-ae27-4234-85ba-8dd4409e24de",
   "metadata": {},
   "outputs": [
    {
     "data": {
      "text/plain": [
       "('tools',)"
      ]
     },
     "execution_count": 6,
     "metadata": {},
     "output_type": "execute_result"
    }
   ],
   "source": [
    "snapshot = graph.get_state(config)\n",
    "snapshot.next"
   ]
  },
  {
   "cell_type": "code",
   "execution_count": 7,
   "id": "382a0fac-73c8-4a73-a416-68c3c91e074f",
   "metadata": {},
   "outputs": [
    {
     "name": "stdout",
     "output_type": "stream",
     "text": [
      "==================================\u001b[1m Ai Message \u001b[0m==================================\n",
      "Tool Calls:\n",
      "  human_assistance (call_42b58a2261284340bb7e85)\n",
      " Call ID: call_42b58a2261284340bb7e85\n",
      "  Args:\n",
      "    query: 我想构建一家无人机，你可以给我推荐些专家吗？\n",
      "=================================\u001b[1m Tool Message \u001b[0m=================================\n",
      "Name: human_assistance\n",
      "\n",
      "我们专家在此为您提供帮助！我们推荐您使用大疆来构建您的智能代理无人机。 相比简单的自主代理无人机，它更加可靠且具有更好的可扩展性。\n",
      "==================================\u001b[1m Ai Message \u001b[0m==================================\n",
      "\n",
      "我们建议您考虑使用大疆（DJI）的产品来构建您的智能代理无人机。相比简单的自主代理无人机，大疆的解决方案更加可靠，并且具备更好的可扩展性，能够为您的项目提供强有力的支持！如果您有更具体的需求或问题，欢迎随时提问。\n"
     ]
    }
   ],
   "source": [
    "human_response = (\n",
    "    \"我们专家在此为您提供帮助！我们推荐您使用大疆来构建您的智能代理无人机。\"\n",
    "    \" 相比简单的自主代理无人机，它更加可靠且具有更好的可扩展性。\"\n",
    ")\n",
    "\n",
    "human_command = Command(resume={\"data\": human_response})\n",
    "\n",
    "events = graph.stream(human_command, config, stream_mode=\"values\")\n",
    "for event in events:\n",
    "    if \"messages\" in event:\n",
    "        event[\"messages\"][-1].pretty_print()"
   ]
  },
  {
   "cell_type": "code",
   "execution_count": null,
   "id": "4ca6e52f-384f-43cd-a345-2f732529b90f",
   "metadata": {},
   "outputs": [],
   "source": []
  },
  {
   "cell_type": "code",
   "execution_count": 16,
   "id": "a1df4940-de8b-481d-9f82-13ea33cbf4b9",
   "metadata": {},
   "outputs": [],
   "source": [
    "from typing import Annotated\n",
    "\n",
    "from langchain_tavily import TavilySearch\n",
    "from langchain_core.tools import tool\n",
    "from typing_extensions import TypedDict\n",
    "\n",
    "from langgraph.checkpoint.memory import MemorySaver\n",
    "from langgraph.graph import StateGraph, START, END\n",
    "from langgraph.graph.message import add_messages\n",
    "from langgraph.prebuilt import ToolNode, tools_condition\n",
    "from langgraph.types import Command, interrupt\n",
    "\n",
    "class State(TypedDict):\n",
    "    messages: Annotated[list, add_messages]\n",
    "\n",
    "graph_builder = StateGraph(State)\n",
    "\n",
    "@tool\n",
    "def human_assistance(query: str) -> str:\n",
    "    \"\"\"Request assistance from a human.\"\"\"\n",
    "    human_response = interrupt({\"query\": query})\n",
    "    return human_response[\"data\"]\n",
    "\n",
    "tool = TavilySearch(max_results=2)\n",
    "tools = [tool, human_assistance]\n",
    "llm_with_tools = llm.bind_tools(tools)\n",
    "\n",
    "def chatbot(state: State):\n",
    "    message = llm_with_tools.invoke(state[\"messages\"])\n",
    "    assert(len(message.tool_calls) <= 1)\n",
    "    return {\"messages\": [message]}\n",
    "\n",
    "graph_builder.add_node(\"chatbot\", chatbot)\n",
    "\n",
    "tool_node = ToolNode(tools=tools)\n",
    "graph_builder.add_node(\"tools\", tool_node)\n",
    "\n",
    "graph_builder.add_conditional_edges(\n",
    "    \"chatbot\",\n",
    "    tools_condition,\n",
    ")\n",
    "graph_builder.add_edge(\"tools\", \"chatbot\")\n",
    "graph_builder.add_edge(START, \"chatbot\")\n",
    "\n",
    "memory = MemorySaver()\n",
    "graph = graph_builder.compile(checkpointer=memory)"
   ]
  },
  {
   "cell_type": "code",
   "execution_count": 17,
   "id": "77f63e66-b6ad-48a7-9348-f0a72c0ca66a",
   "metadata": {},
   "outputs": [
    {
     "name": "stdout",
     "output_type": "stream",
     "text": [
      "🤖 带人工协助的聊天机器人已启动！\n",
      "💡 提示: 询问需要人工协助的问题（如预订、联系等）会触发中断\n"
     ]
    },
    {
     "name": "stdout",
     "output_type": "stream",
     "text": [
      "\n",
      "你:  最新的科技新闻\n"
     ]
    },
    {
     "name": "stdout",
     "output_type": "stream",
     "text": [
      "🤖: 以下是最近的科技新闻摘要：\n",
      "\n",
      "1. **TeamGroup 发布自毁 SSD**  \n",
      "   TeamGroup 展示了一款带有红色按钮的自毁 SSD，可实现即时数据销毁。这项技术对于需要高安全性的用户来说是一个重要进展。\n",
      "\n",
      "2. **ASUS 推出价值 50 万美元的 RTX 5090 ROG Astral (Real) Gold Edition**  \n",
      "   华硕展示了其高端显卡 RTX 5090 ROG Astral 的黄金版，售价高达 50 万美元，吸引了广泛关注。\n",
      "\n",
      "3. **NVIDIA 再推 Cyberpunk 2077 显卡**  \n",
      "   NVIDIA 推出了新的 RTX 5090 显卡，并计划将其作为赠品送给部分用户，与《Cyberpunk 2077》游戏结合推广。\n",
      "\n",
      "4. **AYANEO Flip 1S DS 游戏掌机发布**  \n",
      "   AYANEO 推出了搭载 Ryzen AI 9 HX 370 处理器的双屏游戏掌机 Flip 1S DS，售价 1,299 美元。\n",
      "\n",
      "5. **Silicon Motion 推出 PCIe Gen6 SSD 控制器**  \n",
      "   Silicon Motion 发布了支持最高 28 GB/s 速度的 PCIe Gen6 SSD 控制器，为存储性能带来了显著提升。\n",
      "\n",
      "6. **AMD Radeon RX 9070 GRE 显卡评测**  \n",
      "   AMD 的 Radeon RX 9070 GRE 显卡在媒体评测中表现出色，但受限于 12GB VRAM 容量，未能完全发挥潜力。\n",
      "\n",
      "如需了解详细信息，可以访问相关链接查看完整报道。\n"
     ]
    },
    {
     "name": "stdout",
     "output_type": "stream",
     "text": [
      "\n",
      "你:  帮我预订明天的机票\n"
     ]
    },
    {
     "name": "stdout",
     "output_type": "stream",
     "text": [
      "🤖: \n"
     ]
    },
    {
     "name": "stdout",
     "output_type": "stream",
     "text": [
      "\n",
      "你:  6\n"
     ]
    },
    {
     "name": "stdout",
     "output_type": "stream",
     "text": [
      "❌ 错误: Error code: 400 - {'error': {'code': 'invalid_parameter_error', 'param': None, 'message': '<400> InternalError.Algo.InvalidParameter: An assistant message with \"tool_calls\" must be followed by tool messages responding to each \"tool_call_id\". The following tool_call_ids did not have response messages: message[6].role', 'type': 'invalid_request_error'}, 'id': 'chatcmpl-566a8056-ffac-9d1d-8825-6f44be962e17', 'request_id': '566a8056-ffac-9d1d-8825-6f44be962e17'}\n"
     ]
    },
    {
     "name": "stdout",
     "output_type": "stream",
     "text": [
      "\n",
      "你:  quit\n"
     ]
    },
    {
     "name": "stdout",
     "output_type": "stream",
     "text": [
      "👋 再见！\n"
     ]
    }
   ],
   "source": [
    "def interactive_test():\n",
    "    \"\"\"交互式测试\"\"\"\n",
    "    config = {\"configurable\": {\"thread_id\": \"interactive\"}}\n",
    "    \n",
    "    print(\"🤖 带人工协助的聊天机器人已启动！\")\n",
    "    print(\"💡 提示: 询问需要人工协助的问题（如预订、联系等）会触发中断\")\n",
    "    \n",
    "    while True:\n",
    "        user_input = input(\"\\n你: \")\n",
    "        if user_input.lower() in ['quit', 'exit', '退出']:\n",
    "            print(\"👋 再见！\")\n",
    "            break\n",
    "            \n",
    "        try:\n",
    "            result = graph.invoke(\n",
    "                {\"messages\": [(\"user\", user_input)]}, \n",
    "                config\n",
    "            )\n",
    "            print(f\"🤖: {result['messages'][-1].content}\")\n",
    "            \n",
    "        except Exception as e:\n",
    "            if \"interrupt\" in str(e).lower():\n",
    "                print(\"🔔 需要人工协助...\")\n",
    "                human_response = input(\"👤 请提供协助: \")\n",
    "                \n",
    "                # 继续执行\n",
    "                result = graph.invoke(\n",
    "                    None,\n",
    "                    config, \n",
    "                    input={\"data\": human_response}\n",
    "                )\n",
    "                print(f\"🤖: {result['messages'][-1].content}\")\n",
    "            else:\n",
    "                print(f\"❌ 错误: {e}\")\n",
    "\n",
    "# 运行交互式测试\n",
    "interactive_test()"
   ]
  },
  {
   "cell_type": "code",
   "execution_count": 18,
   "id": "49f23ce4-586a-4dca-90e2-f946702e3f3c",
   "metadata": {},
   "outputs": [
    {
     "name": "stdout",
     "output_type": "stream",
     "text": [
      "🤖 带人工协助的聊天机器人已启动！\n",
      "💡 提示: 询问需要人工协助的问题（如预订、联系等）会触发中断\n"
     ]
    },
    {
     "name": "stdout",
     "output_type": "stream",
     "text": [
      "\n",
      "你:  帮我预订明天的机票\n"
     ]
    },
    {
     "name": "stdout",
     "output_type": "stream",
     "text": [
      "❌ 错误: Error code: 400 - {'error': {'code': 'invalid_parameter_error', 'param': None, 'message': '<400> InternalError.Algo.InvalidParameter: An assistant message with \"tool_calls\" must be followed by tool messages responding to each \"tool_call_id\". The following tool_call_ids did not have response messages: message[6].role', 'type': 'invalid_request_error'}, 'id': 'chatcmpl-3a663e82-feeb-95ad-a7a7-c2d1d84085e4', 'request_id': '3a663e82-feeb-95ad-a7a7-c2d1d84085e4'}\n"
     ]
    },
    {
     "name": "stdout",
     "output_type": "stream",
     "text": [
      "\n",
      "你:  quit\n"
     ]
    },
    {
     "name": "stdout",
     "output_type": "stream",
     "text": [
      "👋 再见！\n"
     ]
    }
   ],
   "source": [
    "# 运行交互式测试\n",
    "interactive_test()"
   ]
  },
  {
   "cell_type": "code",
   "execution_count": null,
   "id": "152696a0-9d13-40b9-ab75-52c1d3b36bc7",
   "metadata": {},
   "outputs": [],
   "source": []
  }
 ],
 "metadata": {
  "kernelspec": {
   "display_name": "Python 3 (ipykernel)",
   "language": "python",
   "name": "python3"
  },
  "language_info": {
   "codemirror_mode": {
    "name": "ipython",
    "version": 3
   },
   "file_extension": ".py",
   "mimetype": "text/x-python",
   "name": "python",
   "nbconvert_exporter": "python",
   "pygments_lexer": "ipython3",
   "version": "3.12.2"
  }
 },
 "nbformat": 4,
 "nbformat_minor": 5
}
